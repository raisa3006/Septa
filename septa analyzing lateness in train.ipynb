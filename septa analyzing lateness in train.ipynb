{
 "cells": [
  {
   "cell_type": "code",
   "execution_count": 20,
   "metadata": {
    "collapsed": true
   },
   "outputs": [],
   "source": [
    "import pandas as pd\n",
    "import numpy as np\n",
    "import seaborn as sns\n",
    "%matplotlib inline\n",
    "sns.plt.rcParams[\"figure.figsize\"] = (12,5)"
   ]
  },
  {
   "cell_type": "code",
   "execution_count": 2,
   "metadata": {
    "collapsed": true
   },
   "outputs": [],
   "source": [
    "import sqlite3"
   ]
  },
  {
   "cell_type": "code",
   "execution_count": 3,
   "metadata": {
    "collapsed": true
   },
   "outputs": [],
   "source": [
    "import os"
   ]
  },
  {
   "cell_type": "code",
   "execution_count": 4,
   "metadata": {
    "collapsed": true
   },
   "outputs": [],
   "source": [
    "os.chdir(\"c:/dellbackup/all things data science/datasets\")"
   ]
  },
  {
   "cell_type": "code",
   "execution_count": 5,
   "metadata": {
    "collapsed": true
   },
   "outputs": [],
   "source": [
    "import sqlite3"
   ]
  },
  {
   "cell_type": "code",
   "execution_count": 6,
   "metadata": {
    "collapsed": true
   },
   "outputs": [],
   "source": [
    "con = sqlite3.connect(\"database.sqlite\")"
   ]
  },
  {
   "cell_type": "code",
   "execution_count": 7,
   "metadata": {
    "collapsed": true
   },
   "outputs": [],
   "source": [
    "c = con.cursor()"
   ]
  },
  {
   "cell_type": "code",
   "execution_count": 8,
   "metadata": {
    "collapsed": true
   },
   "outputs": [],
   "source": [
    "from sqlalchemy import create_engine"
   ]
  },
  {
   "cell_type": "code",
   "execution_count": 9,
   "metadata": {
    "collapsed": true
   },
   "outputs": [],
   "source": [
    "conn = create_engine(\"sqlite:///database.sqlite\")"
   ]
  },
  {
   "cell_type": "code",
   "execution_count": 10,
   "metadata": {
    "collapsed": true
   },
   "outputs": [],
   "source": [
    "df = pd.read_sql_table(\"otp\",conn)"
   ]
  },
  {
   "cell_type": "code",
   "execution_count": 11,
   "metadata": {
    "collapsed": false
   },
   "outputs": [
    {
     "data": {
      "text/html": [
       "<div>\n",
       "<table border=\"1\" class=\"dataframe\">\n",
       "  <thead>\n",
       "    <tr style=\"text-align: right;\">\n",
       "      <th></th>\n",
       "      <th>train_id</th>\n",
       "      <th>direction</th>\n",
       "      <th>origin</th>\n",
       "      <th>next_station</th>\n",
       "      <th>date</th>\n",
       "      <th>status</th>\n",
       "      <th>timeStamp</th>\n",
       "    </tr>\n",
       "  </thead>\n",
       "  <tbody>\n",
       "    <tr>\n",
       "      <th>0</th>\n",
       "      <td>778</td>\n",
       "      <td>N</td>\n",
       "      <td>Trenton</td>\n",
       "      <td>Stenton</td>\n",
       "      <td>2016-03-23</td>\n",
       "      <td>1 min</td>\n",
       "      <td>2016-03-23 00:01:47</td>\n",
       "    </tr>\n",
       "    <tr>\n",
       "      <th>1</th>\n",
       "      <td>598</td>\n",
       "      <td>N</td>\n",
       "      <td>Thorndale</td>\n",
       "      <td>Narberth</td>\n",
       "      <td>2016-03-23</td>\n",
       "      <td>1 min</td>\n",
       "      <td>2016-03-23 00:01:58</td>\n",
       "    </tr>\n",
       "    <tr>\n",
       "      <th>2</th>\n",
       "      <td>279</td>\n",
       "      <td>S</td>\n",
       "      <td>Elm</td>\n",
       "      <td>Ridley Park</td>\n",
       "      <td>2016-03-23</td>\n",
       "      <td>2 min</td>\n",
       "      <td>2016-03-23 00:02:02</td>\n",
       "    </tr>\n",
       "    <tr>\n",
       "      <th>3</th>\n",
       "      <td>476</td>\n",
       "      <td>N</td>\n",
       "      <td>Airport Terminal E-F</td>\n",
       "      <td>Suburban Station</td>\n",
       "      <td>2016-03-23</td>\n",
       "      <td>On Time</td>\n",
       "      <td>2016-03-23 00:03:19</td>\n",
       "    </tr>\n",
       "    <tr>\n",
       "      <th>4</th>\n",
       "      <td>474</td>\n",
       "      <td>N</td>\n",
       "      <td>Airport Terminal E-F</td>\n",
       "      <td>Jenkintown-Wyncote</td>\n",
       "      <td>2016-03-23</td>\n",
       "      <td>On Time</td>\n",
       "      <td>2016-03-23 00:03:35</td>\n",
       "    </tr>\n",
       "  </tbody>\n",
       "</table>\n",
       "</div>"
      ],
      "text/plain": [
       "  train_id direction                origin        next_station        date  \\\n",
       "0      778         N               Trenton             Stenton  2016-03-23   \n",
       "1      598         N             Thorndale            Narberth  2016-03-23   \n",
       "2      279         S                   Elm         Ridley Park  2016-03-23   \n",
       "3      476         N  Airport Terminal E-F    Suburban Station  2016-03-23   \n",
       "4      474         N  Airport Terminal E-F  Jenkintown-Wyncote  2016-03-23   \n",
       "\n",
       "    status           timeStamp  \n",
       "0    1 min 2016-03-23 00:01:47  \n",
       "1    1 min 2016-03-23 00:01:58  \n",
       "2    2 min 2016-03-23 00:02:02  \n",
       "3  On Time 2016-03-23 00:03:19  \n",
       "4  On Time 2016-03-23 00:03:35  "
      ]
     },
     "execution_count": 11,
     "metadata": {},
     "output_type": "execute_result"
    }
   ],
   "source": [
    "df.head()"
   ]
  },
  {
   "cell_type": "code",
   "execution_count": 12,
   "metadata": {
    "collapsed": false
   },
   "outputs": [
    {
     "name": "stdout",
     "output_type": "stream",
     "text": [
      "<class 'pandas.core.frame.DataFrame'>\n",
      "RangeIndex: 1438490 entries, 0 to 1438489\n",
      "Data columns (total 7 columns):\n",
      "train_id        1438490 non-null object\n",
      "direction       1438490 non-null object\n",
      "origin          1438490 non-null object\n",
      "next_station    1438490 non-null object\n",
      "date            1438490 non-null object\n",
      "status          1438490 non-null object\n",
      "timeStamp       1438490 non-null datetime64[ns]\n",
      "dtypes: datetime64[ns](1), object(6)\n",
      "memory usage: 76.8+ MB\n"
     ]
    }
   ],
   "source": [
    "df.info()"
   ]
  },
  {
   "cell_type": "code",
   "execution_count": 14,
   "metadata": {
    "collapsed": false
   },
   "outputs": [],
   "source": [
    "df.loc[df.status == \"1440 min\",\"status\"] == \"999 min\"\n",
    "df[\"status_n\"] = df.status.str.replace(\"On Time\", \"0\").str.replace(\" min\",\"\").astype(\"int\")"
   ]
  },
  {
   "cell_type": "code",
   "execution_count": 15,
   "metadata": {
    "collapsed": false
   },
   "outputs": [
    {
     "data": {
      "text/html": [
       "<div>\n",
       "<table border=\"1\" class=\"dataframe\">\n",
       "  <thead>\n",
       "    <tr style=\"text-align: right;\">\n",
       "      <th></th>\n",
       "      <th>train_id</th>\n",
       "      <th>direction</th>\n",
       "      <th>origin</th>\n",
       "      <th>next_station</th>\n",
       "      <th>date</th>\n",
       "      <th>status</th>\n",
       "      <th>timeStamp</th>\n",
       "      <th>status_n</th>\n",
       "    </tr>\n",
       "  </thead>\n",
       "  <tbody>\n",
       "    <tr>\n",
       "      <th>0</th>\n",
       "      <td>778</td>\n",
       "      <td>N</td>\n",
       "      <td>Trenton</td>\n",
       "      <td>Stenton</td>\n",
       "      <td>2016-03-23</td>\n",
       "      <td>1 min</td>\n",
       "      <td>2016-03-23 00:01:47</td>\n",
       "      <td>1</td>\n",
       "    </tr>\n",
       "    <tr>\n",
       "      <th>1</th>\n",
       "      <td>598</td>\n",
       "      <td>N</td>\n",
       "      <td>Thorndale</td>\n",
       "      <td>Narberth</td>\n",
       "      <td>2016-03-23</td>\n",
       "      <td>1 min</td>\n",
       "      <td>2016-03-23 00:01:58</td>\n",
       "      <td>1</td>\n",
       "    </tr>\n",
       "    <tr>\n",
       "      <th>2</th>\n",
       "      <td>279</td>\n",
       "      <td>S</td>\n",
       "      <td>Elm</td>\n",
       "      <td>Ridley Park</td>\n",
       "      <td>2016-03-23</td>\n",
       "      <td>2 min</td>\n",
       "      <td>2016-03-23 00:02:02</td>\n",
       "      <td>2</td>\n",
       "    </tr>\n",
       "    <tr>\n",
       "      <th>3</th>\n",
       "      <td>476</td>\n",
       "      <td>N</td>\n",
       "      <td>Airport Terminal E-F</td>\n",
       "      <td>Suburban Station</td>\n",
       "      <td>2016-03-23</td>\n",
       "      <td>On Time</td>\n",
       "      <td>2016-03-23 00:03:19</td>\n",
       "      <td>0</td>\n",
       "    </tr>\n",
       "    <tr>\n",
       "      <th>4</th>\n",
       "      <td>474</td>\n",
       "      <td>N</td>\n",
       "      <td>Airport Terminal E-F</td>\n",
       "      <td>Jenkintown-Wyncote</td>\n",
       "      <td>2016-03-23</td>\n",
       "      <td>On Time</td>\n",
       "      <td>2016-03-23 00:03:35</td>\n",
       "      <td>0</td>\n",
       "    </tr>\n",
       "  </tbody>\n",
       "</table>\n",
       "</div>"
      ],
      "text/plain": [
       "  train_id direction                origin        next_station        date  \\\n",
       "0      778         N               Trenton             Stenton  2016-03-23   \n",
       "1      598         N             Thorndale            Narberth  2016-03-23   \n",
       "2      279         S                   Elm         Ridley Park  2016-03-23   \n",
       "3      476         N  Airport Terminal E-F    Suburban Station  2016-03-23   \n",
       "4      474         N  Airport Terminal E-F  Jenkintown-Wyncote  2016-03-23   \n",
       "\n",
       "    status           timeStamp  status_n  \n",
       "0    1 min 2016-03-23 00:01:47         1  \n",
       "1    1 min 2016-03-23 00:01:58         1  \n",
       "2    2 min 2016-03-23 00:02:02         2  \n",
       "3  On Time 2016-03-23 00:03:19         0  \n",
       "4  On Time 2016-03-23 00:03:35         0  "
      ]
     },
     "execution_count": 15,
     "metadata": {},
     "output_type": "execute_result"
    }
   ],
   "source": [
    "df.head()"
   ]
  },
  {
   "cell_type": "code",
   "execution_count": 16,
   "metadata": {
    "collapsed": false
   },
   "outputs": [
    {
     "data": {
      "text/html": [
       "<div>\n",
       "<table border=\"1\" class=\"dataframe\">\n",
       "  <thead>\n",
       "    <tr style=\"text-align: right;\">\n",
       "      <th></th>\n",
       "      <th>train_id</th>\n",
       "      <th>direction</th>\n",
       "      <th>origin</th>\n",
       "      <th>next_station</th>\n",
       "      <th>date</th>\n",
       "      <th>status</th>\n",
       "      <th>timeStamp</th>\n",
       "      <th>status_n</th>\n",
       "    </tr>\n",
       "  </thead>\n",
       "  <tbody>\n",
       "    <tr>\n",
       "      <th>3238</th>\n",
       "      <td>550</td>\n",
       "      <td>N</td>\n",
       "      <td>None</td>\n",
       "      <td>None</td>\n",
       "      <td>2016-03-23</td>\n",
       "      <td>On Time</td>\n",
       "      <td>2016-03-23 10:10:39</td>\n",
       "      <td>0</td>\n",
       "    </tr>\n",
       "    <tr>\n",
       "      <th>3375</th>\n",
       "      <td>550</td>\n",
       "      <td>N</td>\n",
       "      <td>Thorndale</td>\n",
       "      <td>Downingtown</td>\n",
       "      <td>2016-03-23</td>\n",
       "      <td>11 min</td>\n",
       "      <td>2016-03-23 10:28:30</td>\n",
       "      <td>11</td>\n",
       "    </tr>\n",
       "    <tr>\n",
       "      <th>3415</th>\n",
       "      <td>550</td>\n",
       "      <td>N</td>\n",
       "      <td>Thorndale</td>\n",
       "      <td>Whitford</td>\n",
       "      <td>2016-03-23</td>\n",
       "      <td>11 min</td>\n",
       "      <td>2016-03-23 10:33:09</td>\n",
       "      <td>11</td>\n",
       "    </tr>\n",
       "    <tr>\n",
       "      <th>3427</th>\n",
       "      <td>550</td>\n",
       "      <td>N</td>\n",
       "      <td>Thorndale</td>\n",
       "      <td>Exton</td>\n",
       "      <td>2016-03-23</td>\n",
       "      <td>11 min</td>\n",
       "      <td>2016-03-23 10:35:09</td>\n",
       "      <td>11</td>\n",
       "    </tr>\n",
       "    <tr>\n",
       "      <th>3457</th>\n",
       "      <td>550</td>\n",
       "      <td>N</td>\n",
       "      <td>Thorndale</td>\n",
       "      <td>Malvern</td>\n",
       "      <td>2016-03-23</td>\n",
       "      <td>10 min</td>\n",
       "      <td>2016-03-23 10:40:04</td>\n",
       "      <td>10</td>\n",
       "    </tr>\n",
       "  </tbody>\n",
       "</table>\n",
       "</div>"
      ],
      "text/plain": [
       "     train_id direction     origin next_station        date   status  \\\n",
       "3238      550         N       None         None  2016-03-23  On Time   \n",
       "3375      550         N  Thorndale  Downingtown  2016-03-23   11 min   \n",
       "3415      550         N  Thorndale     Whitford  2016-03-23   11 min   \n",
       "3427      550         N  Thorndale        Exton  2016-03-23   11 min   \n",
       "3457      550         N  Thorndale      Malvern  2016-03-23   10 min   \n",
       "\n",
       "               timeStamp  status_n  \n",
       "3238 2016-03-23 10:10:39         0  \n",
       "3375 2016-03-23 10:28:30        11  \n",
       "3415 2016-03-23 10:33:09        11  \n",
       "3427 2016-03-23 10:35:09        11  \n",
       "3457 2016-03-23 10:40:04        10  "
      ]
     },
     "execution_count": 16,
     "metadata": {},
     "output_type": "execute_result"
    }
   ],
   "source": [
    "t = df[df.train_id==\"550\"].sort_values(by = \"timeStamp\")\n",
    "t.head()"
   ]
  },
  {
   "cell_type": "code",
   "execution_count": 17,
   "metadata": {
    "collapsed": true
   },
   "outputs": [],
   "source": [
    "#checking how does the lateness of this particular train evolve over time"
   ]
  },
  {
   "cell_type": "code",
   "execution_count": 21,
   "metadata": {
    "collapsed": false
   },
   "outputs": [
    {
     "data": {
      "text/plain": [
       "<matplotlib.axes._subplots.AxesSubplot at 0x11766e48>"
      ]
     },
     "execution_count": 21,
     "metadata": {},
     "output_type": "execute_result"
    },
    {
     "data": {
      "image/png": "[encoded data removed]",
      "text/plain": [
       "<matplotlib.figure.Figure at 0xd0e35c0>"
      ]
     },
     "metadata": {},
     "output_type": "display_data"
    }
   ],
   "source": [
    "df[df.train_id==\"550\"].sort_values(by='timeStamp').iloc[:100].plot(x='date', y='status_n')"
   ]
  },
  {
   "cell_type": "code",
   "execution_count": 22,
   "metadata": {
    "collapsed": true
   },
   "outputs": [],
   "source": [
    "#now we calculate how each individual station contribute to a train's lateness"
   ]
  },
  {
   "cell_type": "code",
   "execution_count": 23,
   "metadata": {
    "collapsed": false
   },
   "outputs": [
    {
     "data": {
      "text/html": [
       "<div>\n",
       "<table border=\"1\" class=\"dataframe\">\n",
       "  <thead>\n",
       "    <tr style=\"text-align: right;\">\n",
       "      <th></th>\n",
       "      <th>train_id</th>\n",
       "      <th>direction</th>\n",
       "      <th>origin</th>\n",
       "      <th>next_station</th>\n",
       "      <th>date</th>\n",
       "      <th>status</th>\n",
       "      <th>timeStamp</th>\n",
       "      <th>status_n</th>\n",
       "      <th>status_diff</th>\n",
       "    </tr>\n",
       "  </thead>\n",
       "  <tbody>\n",
       "    <tr>\n",
       "      <th>3238</th>\n",
       "      <td>550</td>\n",
       "      <td>N</td>\n",
       "      <td>None</td>\n",
       "      <td>None</td>\n",
       "      <td>2016-03-23</td>\n",
       "      <td>On Time</td>\n",
       "      <td>2016-03-23 10:10:39</td>\n",
       "      <td>0</td>\n",
       "      <td>NaN</td>\n",
       "    </tr>\n",
       "    <tr>\n",
       "      <th>3375</th>\n",
       "      <td>550</td>\n",
       "      <td>N</td>\n",
       "      <td>Thorndale</td>\n",
       "      <td>Downingtown</td>\n",
       "      <td>2016-03-23</td>\n",
       "      <td>11 min</td>\n",
       "      <td>2016-03-23 10:28:30</td>\n",
       "      <td>11</td>\n",
       "      <td>11.0</td>\n",
       "    </tr>\n",
       "    <tr>\n",
       "      <th>3415</th>\n",
       "      <td>550</td>\n",
       "      <td>N</td>\n",
       "      <td>Thorndale</td>\n",
       "      <td>Whitford</td>\n",
       "      <td>2016-03-23</td>\n",
       "      <td>11 min</td>\n",
       "      <td>2016-03-23 10:33:09</td>\n",
       "      <td>11</td>\n",
       "      <td>0.0</td>\n",
       "    </tr>\n",
       "    <tr>\n",
       "      <th>3427</th>\n",
       "      <td>550</td>\n",
       "      <td>N</td>\n",
       "      <td>Thorndale</td>\n",
       "      <td>Exton</td>\n",
       "      <td>2016-03-23</td>\n",
       "      <td>11 min</td>\n",
       "      <td>2016-03-23 10:35:09</td>\n",
       "      <td>11</td>\n",
       "      <td>0.0</td>\n",
       "    </tr>\n",
       "    <tr>\n",
       "      <th>3457</th>\n",
       "      <td>550</td>\n",
       "      <td>N</td>\n",
       "      <td>Thorndale</td>\n",
       "      <td>Malvern</td>\n",
       "      <td>2016-03-23</td>\n",
       "      <td>10 min</td>\n",
       "      <td>2016-03-23 10:40:04</td>\n",
       "      <td>10</td>\n",
       "      <td>-1.0</td>\n",
       "    </tr>\n",
       "  </tbody>\n",
       "</table>\n",
       "</div>"
      ],
      "text/plain": [
       "     train_id direction     origin next_station        date   status  \\\n",
       "3238      550         N       None         None  2016-03-23  On Time   \n",
       "3375      550         N  Thorndale  Downingtown  2016-03-23   11 min   \n",
       "3415      550         N  Thorndale     Whitford  2016-03-23   11 min   \n",
       "3427      550         N  Thorndale        Exton  2016-03-23   11 min   \n",
       "3457      550         N  Thorndale      Malvern  2016-03-23   10 min   \n",
       "\n",
       "               timeStamp  status_n  status_diff  \n",
       "3238 2016-03-23 10:10:39         0          NaN  \n",
       "3375 2016-03-23 10:28:30        11         11.0  \n",
       "3415 2016-03-23 10:33:09        11          0.0  \n",
       "3427 2016-03-23 10:35:09        11          0.0  \n",
       "3457 2016-03-23 10:40:04        10         -1.0  "
      ]
     },
     "execution_count": 23,
     "metadata": {},
     "output_type": "execute_result"
    }
   ],
   "source": [
    "t[\"status_diff\"] = t.status_n.diff()\n",
    "t.head()"
   ]
  },
  {
   "cell_type": "code",
   "execution_count": 24,
   "metadata": {
    "collapsed": false
   },
   "outputs": [
    {
     "data": {
      "text/plain": [
       "<matplotlib.axes._subplots.AxesSubplot at 0x118643c8>"
      ]
     },
     "execution_count": 24,
     "metadata": {},
     "output_type": "execute_result"
    },
    {
     "data": {
      "image/png": "[encoded data removed]",
      "text/plain": [
       "<matplotlib.figure.Figure at 0xd1d83c8>"
      ]
     },
     "metadata": {},
     "output_type": "display_data"
    }
   ],
   "source": [
    "t.plot(x=\"date\",y=\"status_diff\")"
   ]
  },
  {
   "cell_type": "code",
   "execution_count": 25,
   "metadata": {
    "collapsed": false
   },
   "outputs": [
    {
     "data": {
      "text/plain": [
       "<matplotlib.axes._subplots.AxesSubplot at 0x11b3c358>"
      ]
     },
     "execution_count": 25,
     "metadata": {},
     "output_type": "execute_result"
    },
    {
     "data": {
      "image/png": "[encoded data removed]",
      "text/plain": [
       "<matplotlib.figure.Figure at 0xcbf3278>"
      ]
     },
     "metadata": {},
     "output_type": "display_data"
    }
   ],
   "source": [
    "t.status_diff.hist(bins = 50, log = True)"
   ]
  },
  {
   "cell_type": "code",
   "execution_count": 26,
   "metadata": {
    "collapsed": false
   },
   "outputs": [
    {
     "data": {
      "text/html": [
       "<div>\n",
       "<table border=\"1\" class=\"dataframe\">\n",
       "  <thead>\n",
       "    <tr style=\"text-align: right;\">\n",
       "      <th></th>\n",
       "      <th>status_n</th>\n",
       "      <th>status_diff</th>\n",
       "    </tr>\n",
       "    <tr>\n",
       "      <th>next_station</th>\n",
       "      <th></th>\n",
       "      <th></th>\n",
       "    </tr>\n",
       "  </thead>\n",
       "  <tbody>\n",
       "    <tr>\n",
       "      <th>None</th>\n",
       "      <td>0.000000</td>\n",
       "      <td>-9.289474</td>\n",
       "    </tr>\n",
       "    <tr>\n",
       "      <th>New Britain</th>\n",
       "      <td>7.581081</td>\n",
       "      <td>-2.283784</td>\n",
       "    </tr>\n",
       "    <tr>\n",
       "      <th>North Wales</th>\n",
       "      <td>8.920000</td>\n",
       "      <td>-1.400000</td>\n",
       "    </tr>\n",
       "    <tr>\n",
       "      <th>North Broad St</th>\n",
       "      <td>1.000000</td>\n",
       "      <td>-1.400000</td>\n",
       "    </tr>\n",
       "    <tr>\n",
       "      <th>9th St</th>\n",
       "      <td>8.932432</td>\n",
       "      <td>-1.391892</td>\n",
       "    </tr>\n",
       "    <tr>\n",
       "      <th>Suburban Station</th>\n",
       "      <td>8.118421</td>\n",
       "      <td>-1.078947</td>\n",
       "    </tr>\n",
       "    <tr>\n",
       "      <th>North Hills</th>\n",
       "      <td>10.000000</td>\n",
       "      <td>-0.853333</td>\n",
       "    </tr>\n",
       "    <tr>\n",
       "      <th>Oreland</th>\n",
       "      <td>9.540541</td>\n",
       "      <td>-0.297297</td>\n",
       "    </tr>\n",
       "    <tr>\n",
       "      <th>Pennbrook</th>\n",
       "      <td>8.666667</td>\n",
       "      <td>-0.253333</td>\n",
       "    </tr>\n",
       "    <tr>\n",
       "      <th>Jefferson Station</th>\n",
       "      <td>7.600000</td>\n",
       "      <td>-0.213333</td>\n",
       "    </tr>\n",
       "    <tr>\n",
       "      <th>Ft Washington</th>\n",
       "      <td>9.560000</td>\n",
       "      <td>-0.146667</td>\n",
       "    </tr>\n",
       "    <tr>\n",
       "      <th>Penllyn</th>\n",
       "      <td>9.506667</td>\n",
       "      <td>-0.120000</td>\n",
       "    </tr>\n",
       "    <tr>\n",
       "      <th>Delaware Valley College</th>\n",
       "      <td>7.611111</td>\n",
       "      <td>-0.069444</td>\n",
       "    </tr>\n",
       "    <tr>\n",
       "      <th>Devon</th>\n",
       "      <td>4.987013</td>\n",
       "      <td>-0.012987</td>\n",
       "    </tr>\n",
       "    <tr>\n",
       "      <th>Overbrook</th>\n",
       "      <td>6.306667</td>\n",
       "      <td>0.000000</td>\n",
       "    </tr>\n",
       "    <tr>\n",
       "      <th>Narberth</th>\n",
       "      <td>6.937500</td>\n",
       "      <td>0.000000</td>\n",
       "    </tr>\n",
       "    <tr>\n",
       "      <th>Merion</th>\n",
       "      <td>6.306667</td>\n",
       "      <td>0.000000</td>\n",
       "    </tr>\n",
       "    <tr>\n",
       "      <th>Strafford</th>\n",
       "      <td>4.961039</td>\n",
       "      <td>0.000000</td>\n",
       "    </tr>\n",
       "    <tr>\n",
       "      <th>Radnor</th>\n",
       "      <td>5.093333</td>\n",
       "      <td>0.000000</td>\n",
       "    </tr>\n",
       "    <tr>\n",
       "      <th>Wynnewood</th>\n",
       "      <td>6.306667</td>\n",
       "      <td>0.000000</td>\n",
       "    </tr>\n",
       "    <tr>\n",
       "      <th>St. Davids</th>\n",
       "      <td>5.026316</td>\n",
       "      <td>0.000000</td>\n",
       "    </tr>\n",
       "    <tr>\n",
       "      <th>Wayne-A</th>\n",
       "      <td>5.026316</td>\n",
       "      <td>0.000000</td>\n",
       "    </tr>\n",
       "    <tr>\n",
       "      <th>Bryn Mawr</th>\n",
       "      <td>5.067568</td>\n",
       "      <td>0.000000</td>\n",
       "    </tr>\n",
       "    <tr>\n",
       "      <th>Rosemont</th>\n",
       "      <td>5.067568</td>\n",
       "      <td>0.000000</td>\n",
       "    </tr>\n",
       "    <tr>\n",
       "      <th>Villanova</th>\n",
       "      <td>5.093333</td>\n",
       "      <td>0.000000</td>\n",
       "    </tr>\n",
       "    <tr>\n",
       "      <th>Wayne Jct</th>\n",
       "      <td>8.280000</td>\n",
       "      <td>0.000000</td>\n",
       "    </tr>\n",
       "    <tr>\n",
       "      <th>Fortuna</th>\n",
       "      <td>6.250000</td>\n",
       "      <td>0.000000</td>\n",
       "    </tr>\n",
       "    <tr>\n",
       "      <th>Berwyn</th>\n",
       "      <td>4.948052</td>\n",
       "      <td>0.012987</td>\n",
       "    </tr>\n",
       "    <tr>\n",
       "      <th>Whitford</th>\n",
       "      <td>4.750000</td>\n",
       "      <td>0.013889</td>\n",
       "    </tr>\n",
       "    <tr>\n",
       "      <th>Ardmore</th>\n",
       "      <td>6.333333</td>\n",
       "      <td>0.026667</td>\n",
       "    </tr>\n",
       "    <tr>\n",
       "      <th>Paoli</th>\n",
       "      <td>4.689189</td>\n",
       "      <td>0.040541</td>\n",
       "    </tr>\n",
       "    <tr>\n",
       "      <th>Ambler</th>\n",
       "      <td>9.626667</td>\n",
       "      <td>0.066667</td>\n",
       "    </tr>\n",
       "    <tr>\n",
       "      <th>Exton</th>\n",
       "      <td>4.972222</td>\n",
       "      <td>0.069444</td>\n",
       "    </tr>\n",
       "    <tr>\n",
       "      <th>Colmar</th>\n",
       "      <td>9.256757</td>\n",
       "      <td>0.324324</td>\n",
       "    </tr>\n",
       "    <tr>\n",
       "      <th>Melrose Park</th>\n",
       "      <td>4.000000</td>\n",
       "      <td>0.400000</td>\n",
       "    </tr>\n",
       "    <tr>\n",
       "      <th>Glenside</th>\n",
       "      <td>10.853333</td>\n",
       "      <td>0.413333</td>\n",
       "    </tr>\n",
       "    <tr>\n",
       "      <th>Daylesford</th>\n",
       "      <td>4.961039</td>\n",
       "      <td>0.441558</td>\n",
       "    </tr>\n",
       "    <tr>\n",
       "      <th>Chalfont</th>\n",
       "      <td>9.864865</td>\n",
       "      <td>0.608108</td>\n",
       "    </tr>\n",
       "    <tr>\n",
       "      <th>Temple U</th>\n",
       "      <td>8.373333</td>\n",
       "      <td>0.773333</td>\n",
       "    </tr>\n",
       "    <tr>\n",
       "      <th>Elkins Park</th>\n",
       "      <td>4.800000</td>\n",
       "      <td>0.800000</td>\n",
       "    </tr>\n",
       "    <tr>\n",
       "      <th>Gwynedd Valley</th>\n",
       "      <td>10.320000</td>\n",
       "      <td>0.813333</td>\n",
       "    </tr>\n",
       "    <tr>\n",
       "      <th>Malvern</th>\n",
       "      <td>5.500000</td>\n",
       "      <td>0.986486</td>\n",
       "    </tr>\n",
       "    <tr>\n",
       "      <th>Jenkintown-Wyncote</th>\n",
       "      <td>10.440000</td>\n",
       "      <td>1.026667</td>\n",
       "    </tr>\n",
       "    <tr>\n",
       "      <th>Fern Rock TC</th>\n",
       "      <td>9.333333</td>\n",
       "      <td>1.053333</td>\n",
       "    </tr>\n",
       "    <tr>\n",
       "      <th>Haverford</th>\n",
       "      <td>6.306667</td>\n",
       "      <td>1.186667</td>\n",
       "    </tr>\n",
       "    <tr>\n",
       "      <th>30th Street Station</th>\n",
       "      <td>8.592105</td>\n",
       "      <td>1.565789</td>\n",
       "    </tr>\n",
       "    <tr>\n",
       "      <th>Lansdale</th>\n",
       "      <td>10.324324</td>\n",
       "      <td>1.635135</td>\n",
       "    </tr>\n",
       "    <tr>\n",
       "      <th>Doylestown</th>\n",
       "      <td>9.283784</td>\n",
       "      <td>1.770270</td>\n",
       "    </tr>\n",
       "    <tr>\n",
       "      <th>Downingtown</th>\n",
       "      <td>5.180556</td>\n",
       "      <td>5.180556</td>\n",
       "    </tr>\n",
       "  </tbody>\n",
       "</table>\n",
       "</div>"
      ],
      "text/plain": [
       "                          status_n  status_diff\n",
       "next_station                                   \n",
       "None                      0.000000    -9.289474\n",
       "New Britain               7.581081    -2.283784\n",
       "North Wales               8.920000    -1.400000\n",
       "North Broad St            1.000000    -1.400000\n",
       "9th St                    8.932432    -1.391892\n",
       "Suburban Station          8.118421    -1.078947\n",
       "North Hills              10.000000    -0.853333\n",
       "Oreland                   9.540541    -0.297297\n",
       "Pennbrook                 8.666667    -0.253333\n",
       "Jefferson Station         7.600000    -0.213333\n",
       "Ft Washington             9.560000    -0.146667\n",
       "Penllyn                   9.506667    -0.120000\n",
       "Delaware Valley College   7.611111    -0.069444\n",
       "Devon                     4.987013    -0.012987\n",
       "Overbrook                 6.306667     0.000000\n",
       "Narberth                  6.937500     0.000000\n",
       "Merion                    6.306667     0.000000\n",
       "Strafford                 4.961039     0.000000\n",
       "Radnor                    5.093333     0.000000\n",
       "Wynnewood                 6.306667     0.000000\n",
       "St. Davids                5.026316     0.000000\n",
       "Wayne-A                   5.026316     0.000000\n",
       "Bryn Mawr                 5.067568     0.000000\n",
       "Rosemont                  5.067568     0.000000\n",
       "Villanova                 5.093333     0.000000\n",
       "Wayne Jct                 8.280000     0.000000\n",
       "Fortuna                   6.250000     0.000000\n",
       "Berwyn                    4.948052     0.012987\n",
       "Whitford                  4.750000     0.013889\n",
       "Ardmore                   6.333333     0.026667\n",
       "Paoli                     4.689189     0.040541\n",
       "Ambler                    9.626667     0.066667\n",
       "Exton                     4.972222     0.069444\n",
       "Colmar                    9.256757     0.324324\n",
       "Melrose Park              4.000000     0.400000\n",
       "Glenside                 10.853333     0.413333\n",
       "Daylesford                4.961039     0.441558\n",
       "Chalfont                  9.864865     0.608108\n",
       "Temple U                  8.373333     0.773333\n",
       "Elkins Park               4.800000     0.800000\n",
       "Gwynedd Valley           10.320000     0.813333\n",
       "Malvern                   5.500000     0.986486\n",
       "Jenkintown-Wyncote       10.440000     1.026667\n",
       "Fern Rock TC              9.333333     1.053333\n",
       "Haverford                 6.306667     1.186667\n",
       "30th Street Station       8.592105     1.565789\n",
       "Lansdale                 10.324324     1.635135\n",
       "Doylestown                9.283784     1.770270\n",
       "Downingtown               5.180556     5.180556"
      ]
     },
     "execution_count": 26,
     "metadata": {},
     "output_type": "execute_result"
    }
   ],
   "source": [
    "tg = t.groupby([\"next_station\"]).mean().sort_values([\"status_diff\"])\n",
    "tg"
   ]
  },
  {
   "cell_type": "code",
   "execution_count": 27,
   "metadata": {
    "collapsed": false
   },
   "outputs": [
    {
     "data": {
      "text/plain": [
       "<matplotlib.axes._subplots.AxesSubplot at 0xc676860>"
      ]
     },
     "execution_count": 27,
     "metadata": {},
     "output_type": "execute_result"
    },
    {
     "data": {
      "image/png": "[encoded data removed]",
      "text/plain": [
       "<matplotlib.figure.Figure at 0x10bd1748>"
      ]
     },
     "metadata": {},
     "output_type": "display_data"
    }
   ],
   "source": [
    "tg.plot(kind = \"scatter\",x=\"status_n\",y=\"status_diff\")"
   ]
  },
  {
   "cell_type": "code",
   "execution_count": 28,
   "metadata": {
    "collapsed": false
   },
   "outputs": [
    {
     "data": {
      "text/html": [
       "<div>\n",
       "<table border=\"1\" class=\"dataframe\">\n",
       "  <thead>\n",
       "    <tr style=\"text-align: right;\">\n",
       "      <th></th>\n",
       "      <th>status_n</th>\n",
       "      <th>status_diff</th>\n",
       "    </tr>\n",
       "  </thead>\n",
       "  <tbody>\n",
       "    <tr>\n",
       "      <th>status_n</th>\n",
       "      <td>1.000000</td>\n",
       "      <td>0.351667</td>\n",
       "    </tr>\n",
       "    <tr>\n",
       "      <th>status_diff</th>\n",
       "      <td>0.351667</td>\n",
       "      <td>1.000000</td>\n",
       "    </tr>\n",
       "  </tbody>\n",
       "</table>\n",
       "</div>"
      ],
      "text/plain": [
       "             status_n  status_diff\n",
       "status_n     1.000000     0.351667\n",
       "status_diff  0.351667     1.000000"
      ]
     },
     "execution_count": 28,
     "metadata": {},
     "output_type": "execute_result"
    }
   ],
   "source": [
    "tg.corr()"
   ]
  },
  {
   "cell_type": "code",
   "execution_count": 29,
   "metadata": {
    "collapsed": true
   },
   "outputs": [],
   "source": [
    "df.sort_values(by=[\"train_id\",\"timeStamp\"],inplace=True)"
   ]
  },
  {
   "cell_type": "code",
   "execution_count": 31,
   "metadata": {
    "collapsed": false
   },
   "outputs": [
    {
     "data": {
      "text/html": [
       "<div>\n",
       "<table border=\"1\" class=\"dataframe\">\n",
       "  <thead>\n",
       "    <tr style=\"text-align: right;\">\n",
       "      <th></th>\n",
       "      <th>train_id</th>\n",
       "      <th>direction</th>\n",
       "      <th>origin</th>\n",
       "      <th>next_station</th>\n",
       "      <th>date</th>\n",
       "      <th>status</th>\n",
       "      <th>timeStamp</th>\n",
       "      <th>status_n</th>\n",
       "      <th>status_diff</th>\n",
       "    </tr>\n",
       "  </thead>\n",
       "  <tbody>\n",
       "    <tr>\n",
       "      <th>284229</th>\n",
       "      <td>102TT</td>\n",
       "      <td>N</td>\n",
       "      <td>None</td>\n",
       "      <td>None</td>\n",
       "      <td>2016-04-22</td>\n",
       "      <td>On Time</td>\n",
       "      <td>2016-04-22 13:14:08</td>\n",
       "      <td>0</td>\n",
       "      <td>NaN</td>\n",
       "    </tr>\n",
       "    <tr>\n",
       "      <th>284248</th>\n",
       "      <td>102TT</td>\n",
       "      <td>N</td>\n",
       "      <td>Devon</td>\n",
       "      <td>Strafford</td>\n",
       "      <td>2016-04-22</td>\n",
       "      <td>On Time</td>\n",
       "      <td>2016-04-22 13:16:08</td>\n",
       "      <td>0</td>\n",
       "      <td>NaN</td>\n",
       "    </tr>\n",
       "    <tr>\n",
       "      <th>284260</th>\n",
       "      <td>102TT</td>\n",
       "      <td>N</td>\n",
       "      <td>Devon</td>\n",
       "      <td>Wayne-A</td>\n",
       "      <td>2016-04-22</td>\n",
       "      <td>On Time</td>\n",
       "      <td>2016-04-22 13:18:07</td>\n",
       "      <td>0</td>\n",
       "      <td>NaN</td>\n",
       "    </tr>\n",
       "    <tr>\n",
       "      <th>779</th>\n",
       "      <td>1054</td>\n",
       "      <td>N</td>\n",
       "      <td>None</td>\n",
       "      <td>None</td>\n",
       "      <td>2016-03-23</td>\n",
       "      <td>On Time</td>\n",
       "      <td>2016-03-23 06:28:11</td>\n",
       "      <td>0</td>\n",
       "      <td>NaN</td>\n",
       "    </tr>\n",
       "    <tr>\n",
       "      <th>793</th>\n",
       "      <td>1054</td>\n",
       "      <td>N</td>\n",
       "      <td>Cynwyd</td>\n",
       "      <td>Bala</td>\n",
       "      <td>2016-03-23</td>\n",
       "      <td>On Time</td>\n",
       "      <td>2016-03-23 06:30:01</td>\n",
       "      <td>0</td>\n",
       "      <td>NaN</td>\n",
       "    </tr>\n",
       "  </tbody>\n",
       "</table>\n",
       "</div>"
      ],
      "text/plain": [
       "       train_id direction  origin next_station        date   status  \\\n",
       "284229    102TT         N    None         None  2016-04-22  On Time   \n",
       "284248    102TT         N   Devon    Strafford  2016-04-22  On Time   \n",
       "284260    102TT         N   Devon      Wayne-A  2016-04-22  On Time   \n",
       "779        1054         N    None         None  2016-03-23  On Time   \n",
       "793        1054         N  Cynwyd         Bala  2016-03-23  On Time   \n",
       "\n",
       "                 timeStamp  status_n  status_diff  \n",
       "284229 2016-04-22 13:14:08         0          NaN  \n",
       "284248 2016-04-22 13:16:08         0          NaN  \n",
       "284260 2016-04-22 13:18:07         0          NaN  \n",
       "779    2016-03-23 06:28:11         0          NaN  \n",
       "793    2016-03-23 06:30:01         0          NaN  "
      ]
     },
     "execution_count": 31,
     "metadata": {},
     "output_type": "execute_result"
    }
   ],
   "source": [
    "df.loc[df.next_station ==\"None\",'status_diff'] = np.NaN\n",
    "df.head()"
   ]
  },
  {
   "cell_type": "code",
   "execution_count": 34,
   "metadata": {
    "collapsed": true
   },
   "outputs": [],
   "source": [
    "diffs = df.dropna().groupby(['next_station']).mean().sort_values(['status_diff'])"
   ]
  },
  {
   "cell_type": "code",
   "execution_count": null,
   "metadata": {
    "collapsed": false
   },
   "outputs": [],
   "source": []
  },
  {
   "cell_type": "code",
   "execution_count": null,
   "metadata": {
    "collapsed": false
   },
   "outputs": [],
   "source": []
  },
  {
   "cell_type": "code",
   "execution_count": null,
   "metadata": {
    "collapsed": true
   },
   "outputs": [],
   "source": []
  }
 ],
 "metadata": {
  "kernelspec": {
   "display_name": "Python 2",
   "language": "python",
   "name": "python2"
  },
  "language_info": {
   "codemirror_mode": {
    "name": "ipython",
    "version": 2
   },
   "file_extension": ".py",
   "mimetype": "text/x-python",
   "name": "python",
   "nbconvert_exporter": "python",
   "pygments_lexer": "ipython2",
   "version": "2.7.12"
  }
 },
 "nbformat": 4,
 "nbformat_minor": 0
}
